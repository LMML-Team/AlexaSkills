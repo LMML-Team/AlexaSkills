{
 "cells": [
  {
   "cell_type": "code",
   "execution_count": 1,
   "metadata": {
    "collapsed": true
   },
   "outputs": [],
   "source": [
    "import Generate_text as gt"
   ]
  },
  {
   "cell_type": "code",
   "execution_count": 2,
   "metadata": {},
   "outputs": [],
   "source": [
    "path_to_wikipedia = r\"/Users/AJ/Desktop/School/2016-2017/MIT BWSI/Autonomous Cognitive Assistant/Week3/wikipedia2text-extracted.txt\"\n",
    "with open(path_to_wikipedia, \"rb\") as f:\n",
    "    string = f.read().decode().lower()[0:10000000]"
   ]
  },
  {
   "cell_type": "code",
   "execution_count": 3,
   "metadata": {
    "collapsed": true
   },
   "outputs": [],
   "source": [
    "lm_order = 11"
   ]
  },
  {
   "cell_type": "code",
   "execution_count": 4,
   "metadata": {},
   "outputs": [],
   "source": [
    "lm = gt.train_lm(string, lm_order)"
   ]
  },
  {
   "cell_type": "code",
   "execution_count": 10,
   "metadata": {},
   "outputs": [],
   "source": [
    "out = gt.generate_text(lm, lm_order, nletters=2000)"
   ]
  },
  {
   "cell_type": "code",
   "execution_count": 11,
   "metadata": {},
   "outputs": [
    {
     "name": "stdout",
     "output_type": "stream",
     "text": [
      "\r\n",
      "\r\n",
      "\r\n",
      "\r\n",
      "prior to romero's director's cut version of the hunchbacked king had an interview with walters referenced wikipedia articles are grouped in distillation from outside the townspeople panicked, and gave them the needs of the year. due to the \"reparations against humanitarian would also have a mandatory machine in japan. it reached number of nato (1949), oecd and efta. in 1986, having studies.\r\n",
      "\r\n",
      "there is a slightly within the nerve. the rocky material causes a high fat pine cone seed, commonly referred to as juvenile skeletons from the roiling plunge pool beneath the centre of part-dieu.\r\n",
      "\r\n",
      "north of the highest brand ranking become a creation of article for the directions:\r\n",
      "\r\n",
      "\r\n",
      "\r\n",
      "it was started streaming should be solved by parents were able to join the territory are often as a result, in 1964 the decision of the original. a third term is airport or airfield, airstrip, and they had warington (early 1847), george oppen and was inaccurate prediction and decorative/art deco (paul manship, carl milles) or more austere, withdrawn during stalingrad pocket. paulus refused, and motion are, nevertheless to be perceive the 3/4 majority. marxism remained more wealthy and importing and announced the \"discovering new conflicts in africa, it merged with president james bond of the 4th century).\r\n",
      "\r\n",
      "the genes demonstrated by howard porter (issues one through both legal and persists for approximation for execution of al mcguire, won the conflagration.\r\n",
      "\r\n",
      "it is a companion of sin\"), in a controversial. still, opinion polls in 2002 saw sassou win with almost 4 billion in 2006, with the meghna estuary. the relative absence of deflection (introverted feeling it would have the right side of dion and he agreed with human emotionally entered in the examples, several places, the organizational sports teams in são paulo grew quickly fell in 1521, francis invaded the solomon islands, uruguay has a large cabinet change. added to the novel also appears in many of marx's essay, which no sh\n"
     ]
    }
   ],
   "source": [
    "print(out)"
   ]
  },
  {
   "cell_type": "code",
   "execution_count": null,
   "metadata": {
    "collapsed": true
   },
   "outputs": [],
   "source": []
  }
 ],
 "metadata": {
  "kernelspec": {
   "display_name": "Python [conda root]",
   "language": "python",
   "name": "conda-root-py"
  },
  "language_info": {
   "codemirror_mode": {
    "name": "ipython",
    "version": 3
   },
   "file_extension": ".py",
   "mimetype": "text/x-python",
   "name": "python",
   "nbconvert_exporter": "python",
   "pygments_lexer": "ipython3",
   "version": "3.5.3"
  }
 },
 "nbformat": 4,
 "nbformat_minor": 2
}
