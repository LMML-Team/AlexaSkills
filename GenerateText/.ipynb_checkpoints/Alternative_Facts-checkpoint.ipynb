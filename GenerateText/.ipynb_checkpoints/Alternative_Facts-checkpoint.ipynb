{
 "cells": [
  {
   "cell_type": "code",
   "execution_count": 1,
   "metadata": {
    "collapsed": true
   },
   "outputs": [],
   "source": [
    "import Generate_text as gt"
   ]
  },
  {
   "cell_type": "code",
   "execution_count": 2,
   "metadata": {
    "collapsed": true
   },
   "outputs": [],
   "source": [
    "path_to_wikipedia = r\"wikipedia2text-extracted.txt\"\n",
    "with open(path_to_wikipedia, \"rb\") as f:\n",
    "    string = f.read().decode().lower()[0:10000000]"
   ]
  },
  {
   "cell_type": "code",
   "execution_count": 3,
   "metadata": {
    "collapsed": true
   },
   "outputs": [],
   "source": [
    "lm_order = 11"
   ]
  },
  {
   "cell_type": "code",
   "execution_count": 4,
   "metadata": {
    "collapsed": true
   },
   "outputs": [],
   "source": [
    "lm = gt.train_lm(string, lm_order)"
   ]
  },
  {
   "cell_type": "code",
   "execution_count": 5,
   "metadata": {},
   "outputs": [
    {
     "name": "stdout",
     "output_type": "stream",
     "text": [
      " even stup\n",
      "<class 'str'>\n"
     ]
    }
   ],
   "source": [
    "out = gt.generate_text(lm, lm_order, nletters=2000)"
   ]
  },
  {
   "cell_type": "code",
   "execution_count": 6,
   "metadata": {},
   "outputs": [
    {
     "name": "stdout",
     "output_type": "stream",
     "text": [
      "id statement was reached quickly divorced him, those leaders as well as in central and western industry and agriculture is a major rival has been abolished the provisions, including organization of what is preserved only to salvage swan lake, the large estate the briars belonging to a kind of hospitality payments to alterations. where rainfall has turned into a  strip of land that it had changed considerable potential risk factor for his picture of the pet over the normal frog prey of small imperfections.\n",
      "\n",
      "\n",
      "\n",
      "light in a utilitarian policies imposed by libertarian, though dunbar died young, her characters are leavened, at least thirty years the constitution, which convey some information that \"the future, due to specialised roles have credited marconi's other painters, such as a bar association. while in the park is almost to the united states, and campground acclaim with a british people\". the zionist goals. the resultant liquefaction causes it to stretch of the global clock signal altogether—may also be committee, and appropriation of constituency. the country as a tourist economic disasters, and now has an enrollment the city is the host countries affecting his own army and the dialogue concern over the lifetime of their wealth; and, after megalosaurus and became successful that people were killed in a central frankish kingdom. though it official positivism dispute). critics of liberia's food independent diseases include changes to the mississippi)(see: list of counter-revolutionary liberals strive after september 16, 1907, oklahoma's football at an amateur cricketers' fund was to play in the tourism boomed again as planned to arrest him. the drivers of the same time (11.2).\n",
      "\n",
      "in spite of that light waves could intentionally and compelled the coalition. throughout his life, mao was considered more fuel to achieve this discrepancies are common inorganic chemistry and physical phenomena may initially understood if narrative of the house continuation \"in self-defence. \n"
     ]
    }
   ],
   "source": [
    "print(out)"
   ]
  },
  {
   "cell_type": "code",
   "execution_count": 12,
   "metadata": {
    "collapsed": true
   },
   "outputs": [],
   "source": [
    "import pickle"
   ]
  },
  {
   "cell_type": "code",
   "execution_count": 14,
   "metadata": {},
   "outputs": [
    {
     "ename": "UnsupportedOperation",
     "evalue": "write",
     "output_type": "error",
     "traceback": [
      "\u001b[0;31m---------------------------------------------------------------------------\u001b[0m",
      "\u001b[0;31mUnsupportedOperation\u001b[0m                      Traceback (most recent call last)",
      "\u001b[0;32m<ipython-input-14-59d7de3b9ea9>\u001b[0m in \u001b[0;36m<module>\u001b[0;34m()\u001b[0m\n\u001b[1;32m      1\u001b[0m \u001b[0;34m\u001b[0m\u001b[0m\n\u001b[1;32m      2\u001b[0m \u001b[0;32mwith\u001b[0m \u001b[0mopen\u001b[0m\u001b[0;34m(\u001b[0m\u001b[0;34m\"alternative_fact_lm.p\"\u001b[0m\u001b[0;34m,\u001b[0m \u001b[0;34m\"rb\"\u001b[0m\u001b[0;34m)\u001b[0m \u001b[0;32mas\u001b[0m \u001b[0mfile\u001b[0m\u001b[0;34m:\u001b[0m\u001b[0;34m\u001b[0m\u001b[0m\n\u001b[0;32m----> 3\u001b[0;31m     \u001b[0mpickle\u001b[0m\u001b[0;34m.\u001b[0m\u001b[0mdump\u001b[0m\u001b[0;34m(\u001b[0m\u001b[0mlm\u001b[0m\u001b[0;34m,\u001b[0m \u001b[0mfile\u001b[0m\u001b[0;34m)\u001b[0m\u001b[0;34m\u001b[0m\u001b[0m\n\u001b[0m",
      "\u001b[0;31mUnsupportedOperation\u001b[0m: write"
     ]
    }
   ],
   "source": [
    "\n",
    "with open(\"alternative_fact_lm.p\", \"wb\") as file:\n",
    "    pickle.dump(lm, file)"
   ]
  },
  {
   "cell_type": "code",
   "execution_count": null,
   "metadata": {
    "collapsed": true
   },
   "outputs": [],
   "source": []
  }
 ],
 "metadata": {
  "kernelspec": {
   "display_name": "Python 3",
   "language": "python",
   "name": "python3"
  },
  "language_info": {
   "codemirror_mode": {
    "name": "ipython",
    "version": 3
   },
   "file_extension": ".py",
   "mimetype": "text/x-python",
   "name": "python",
   "nbconvert_exporter": "python",
   "pygments_lexer": "ipython3",
   "version": "3.5.3"
  }
 },
 "nbformat": 4,
 "nbformat_minor": 1
}
